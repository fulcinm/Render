{
 "cells": [
  {
   "cell_type": "code",
   "execution_count": 2,
   "id": "7ec007f1",
   "metadata": {},
   "outputs": [
    {
     "name": "stdout",
     "output_type": "stream",
     "text": [
      "pip 21.1.3 from /opt/conda/lib/python3.9/site-packages/pip (python 3.9)\n",
      "Note: you may need to restart the kernel to use updated packages.\n"
     ]
    }
   ],
   "source": [
    "pip --version"
   ]
  },
  {
   "cell_type": "code",
   "execution_count": 3,
   "id": "bda00e4a",
   "metadata": {},
   "outputs": [],
   "source": [
    "import streamlit as st\n",
    "import pandas as pd"
   ]
  },
  {
   "cell_type": "code",
   "execution_count": 4,
   "id": "7d7ecd2e",
   "metadata": {},
   "outputs": [
    {
     "data": {
      "text/html": [
       "<div>\n",
       "<style scoped>\n",
       "    .dataframe tbody tr th:only-of-type {\n",
       "        vertical-align: middle;\n",
       "    }\n",
       "\n",
       "    .dataframe tbody tr th {\n",
       "        vertical-align: top;\n",
       "    }\n",
       "\n",
       "    .dataframe thead th {\n",
       "        text-align: right;\n",
       "    }\n",
       "</style>\n",
       "<table border=\"1\" class=\"dataframe\">\n",
       "  <thead>\n",
       "    <tr style=\"text-align: right;\">\n",
       "      <th></th>\n",
       "      <th>price</th>\n",
       "      <th>model_year</th>\n",
       "      <th>model</th>\n",
       "      <th>condition</th>\n",
       "      <th>cylinders</th>\n",
       "      <th>fuel</th>\n",
       "      <th>odometer</th>\n",
       "      <th>transmission</th>\n",
       "      <th>type</th>\n",
       "      <th>paint_color</th>\n",
       "      <th>is_4wd</th>\n",
       "      <th>date_posted</th>\n",
       "      <th>days_listed</th>\n",
       "    </tr>\n",
       "  </thead>\n",
       "  <tbody>\n",
       "    <tr>\n",
       "      <th>0</th>\n",
       "      <td>9400</td>\n",
       "      <td>2011.0</td>\n",
       "      <td>bmw x5</td>\n",
       "      <td>good</td>\n",
       "      <td>6.0</td>\n",
       "      <td>gas</td>\n",
       "      <td>145000.0</td>\n",
       "      <td>automatic</td>\n",
       "      <td>SUV</td>\n",
       "      <td>NaN</td>\n",
       "      <td>1.0</td>\n",
       "      <td>6/23/18</td>\n",
       "      <td>19</td>\n",
       "    </tr>\n",
       "    <tr>\n",
       "      <th>1</th>\n",
       "      <td>25500</td>\n",
       "      <td>NaN</td>\n",
       "      <td>ford f-150</td>\n",
       "      <td>good</td>\n",
       "      <td>6.0</td>\n",
       "      <td>gas</td>\n",
       "      <td>88705.0</td>\n",
       "      <td>automatic</td>\n",
       "      <td>pickup</td>\n",
       "      <td>white</td>\n",
       "      <td>1.0</td>\n",
       "      <td>10/19/18</td>\n",
       "      <td>50</td>\n",
       "    </tr>\n",
       "    <tr>\n",
       "      <th>2</th>\n",
       "      <td>5500</td>\n",
       "      <td>2013.0</td>\n",
       "      <td>hyundai sonata</td>\n",
       "      <td>like new</td>\n",
       "      <td>4.0</td>\n",
       "      <td>gas</td>\n",
       "      <td>110000.0</td>\n",
       "      <td>automatic</td>\n",
       "      <td>sedan</td>\n",
       "      <td>red</td>\n",
       "      <td>NaN</td>\n",
       "      <td>2/7/19</td>\n",
       "      <td>79</td>\n",
       "    </tr>\n",
       "    <tr>\n",
       "      <th>3</th>\n",
       "      <td>1500</td>\n",
       "      <td>2003.0</td>\n",
       "      <td>ford f-150</td>\n",
       "      <td>fair</td>\n",
       "      <td>8.0</td>\n",
       "      <td>gas</td>\n",
       "      <td>NaN</td>\n",
       "      <td>automatic</td>\n",
       "      <td>pickup</td>\n",
       "      <td>NaN</td>\n",
       "      <td>NaN</td>\n",
       "      <td>3/22/19</td>\n",
       "      <td>9</td>\n",
       "    </tr>\n",
       "    <tr>\n",
       "      <th>4</th>\n",
       "      <td>14900</td>\n",
       "      <td>2017.0</td>\n",
       "      <td>chrysler 200</td>\n",
       "      <td>excellent</td>\n",
       "      <td>4.0</td>\n",
       "      <td>gas</td>\n",
       "      <td>80903.0</td>\n",
       "      <td>automatic</td>\n",
       "      <td>sedan</td>\n",
       "      <td>black</td>\n",
       "      <td>NaN</td>\n",
       "      <td>4/2/19</td>\n",
       "      <td>28</td>\n",
       "    </tr>\n",
       "  </tbody>\n",
       "</table>\n",
       "</div>"
      ],
      "text/plain": [
       "   price  model_year           model  condition  cylinders fuel  odometer  \\\n",
       "0   9400      2011.0          bmw x5       good        6.0  gas  145000.0   \n",
       "1  25500         NaN      ford f-150       good        6.0  gas   88705.0   \n",
       "2   5500      2013.0  hyundai sonata   like new        4.0  gas  110000.0   \n",
       "3   1500      2003.0      ford f-150       fair        8.0  gas       NaN   \n",
       "4  14900      2017.0    chrysler 200  excellent        4.0  gas   80903.0   \n",
       "\n",
       "  transmission    type paint_color  is_4wd date_posted  days_listed  \n",
       "0    automatic     SUV         NaN     1.0     6/23/18           19  \n",
       "1    automatic  pickup       white     1.0    10/19/18           50  \n",
       "2    automatic   sedan         red     NaN      2/7/19           79  \n",
       "3    automatic  pickup         NaN     NaN     3/22/19            9  \n",
       "4    automatic   sedan       black     NaN      4/2/19           28  "
      ]
     },
     "execution_count": 4,
     "metadata": {},
     "output_type": "execute_result"
    }
   ],
   "source": [
    "df = pd.read_csv('vehicles_us.csv')\n",
    "df.head()"
   ]
  },
  {
   "cell_type": "code",
   "execution_count": 5,
   "id": "c1a133a9",
   "metadata": {},
   "outputs": [
    {
     "data": {
      "text/plain": [
       "price           51525\n",
       "model_year      47906\n",
       "model           51525\n",
       "condition       51525\n",
       "cylinders       46265\n",
       "fuel            51525\n",
       "odometer        43633\n",
       "transmission    51525\n",
       "type            51525\n",
       "paint_color     42258\n",
       "is_4wd          25572\n",
       "date_posted     51525\n",
       "days_listed     51525\n",
       "dtype: int64"
      ]
     },
     "execution_count": 5,
     "metadata": {},
     "output_type": "execute_result"
    }
   ],
   "source": [
    "df.count()"
   ]
  },
  {
   "cell_type": "markdown",
   "id": "510972d3",
   "metadata": {
    "scrolled": true
   },
   "source": [
    "##### Filter the data below to see the ads by model"
   ]
  },
  {
   "cell_type": "code",
   "execution_count": 6,
   "id": "fde310da",
   "metadata": {},
   "outputs": [
    {
     "name": "stdout",
     "output_type": "stream",
     "text": [
      "   price  model_year           model  condition  cylinders fuel  odometer  \\\n",
      "0   9400      2011.0          bmw x5       good        6.0  gas  145000.0   \n",
      "1  25500         NaN      ford f-150       good        6.0  gas   88705.0   \n",
      "2   5500      2013.0  hyundai sonata   like new        4.0  gas  110000.0   \n",
      "3   1500      2003.0      ford f-150       fair        8.0  gas       NaN   \n",
      "4  14900      2017.0    chrysler 200  excellent        4.0  gas   80903.0   \n",
      "5  14990      2014.0    chrysler 300  excellent        6.0  gas   57954.0   \n",
      "6  12990      2015.0    toyota camry  excellent        4.0  gas   79212.0   \n",
      "7  15990      2013.0     honda pilot  excellent        6.0  gas  109473.0   \n",
      "8  11500      2012.0     kia sorento  excellent        4.0  gas  104174.0   \n",
      "9   9200      2008.0     honda pilot  excellent        NaN  gas  147191.0   \n",
      "\n",
      "  transmission    type paint_color  is_4wd date_posted  days_listed  \n",
      "0    automatic     SUV         NaN     1.0     6/23/18           19  \n",
      "1    automatic  pickup       white     1.0    10/19/18           50  \n",
      "2    automatic   sedan         red     NaN      2/7/19           79  \n",
      "3    automatic  pickup         NaN     NaN     3/22/19            9  \n",
      "4    automatic   sedan       black     NaN      4/2/19           28  \n",
      "5    automatic   sedan       black     1.0     6/20/18           15  \n",
      "6    automatic   sedan       white     NaN    12/27/18           73  \n",
      "7    automatic     SUV       black     1.0      1/7/19           68  \n",
      "8    automatic     SUV         NaN     1.0     7/16/18           19  \n",
      "9    automatic     SUV        blue     1.0     2/15/19           17  \n"
     ]
    }
   ],
   "source": [
    "print(df.head(10))"
   ]
  },
  {
   "cell_type": "code",
   "execution_count": 7,
   "id": "eb459879",
   "metadata": {},
   "outputs": [
    {
     "data": {
      "text/plain": [
       "array(['bmw x5', 'ford f-150', 'hyundai sonata', 'chrysler 200',\n",
       "       'chrysler 300', 'toyota camry', 'honda pilot', 'kia sorento',\n",
       "       'chevrolet silverado 1500', 'honda accord', 'ram 1500',\n",
       "       'gmc yukon', 'jeep cherokee', 'chevrolet traverse',\n",
       "       'hyundai elantra', 'chevrolet tahoe', 'toyota rav4',\n",
       "       'chevrolet silverado', 'jeep wrangler', 'chevrolet malibu',\n",
       "       'ford fusion se', 'chevrolet impala', 'chevrolet corvette',\n",
       "       'jeep liberty', 'toyota camry le', 'nissan altima',\n",
       "       'subaru outback', 'toyota highlander', 'dodge charger',\n",
       "       'toyota tacoma', 'chevrolet equinox', 'nissan rogue',\n",
       "       'mercedes-benz benze sprinter 2500', 'honda cr-v',\n",
       "       'jeep grand cherokee', 'toyota 4runner', 'ford focus',\n",
       "       'honda civic', 'kia soul', 'chevrolet colorado',\n",
       "       'ford f150 supercrew cab xlt', 'chevrolet camaro lt coupe 2d',\n",
       "       'chevrolet cruze', 'ford mustang', 'chevrolet silverado 3500hd',\n",
       "       'nissan frontier crew cab sv', 'subaru impreza',\n",
       "       'jeep grand cherokee laredo', 'nissan versa', 'ford f-250 sd',\n",
       "       'chevrolet silverado 1500 crew', 'ford f250 super duty',\n",
       "       'chevrolet camaro', 'ford mustang gt coupe 2d', 'subaru forester',\n",
       "       'ford explorer', 'ford f-350 sd', 'ford edge', 'nissan maxima',\n",
       "       'ford f-250', 'nissan sentra', 'ford f150', 'chevrolet suburban',\n",
       "       'ford expedition', 'dodge grand caravan', 'ford taurus',\n",
       "       'acura tl', 'ford f350 super duty', 'ford ranger', 'gmc sierra',\n",
       "       'hyundai santa fe', 'ford escape', 'gmc sierra 2500hd',\n",
       "       'honda civic lx', 'gmc sierra 1500', 'honda odyssey',\n",
       "       'cadillac escalade', 'volkswagen jetta', 'toyota corolla',\n",
       "       'chrysler town & country', 'volkswagen passat', 'toyota prius',\n",
       "       'buick enclave', 'ford fusion', 'toyota tundra', 'ram 3500',\n",
       "       'ram 2500', 'nissan frontier', 'chevrolet silverado 2500hd',\n",
       "       'jeep wrangler unlimited', 'ford f-250 super duty', 'gmc acadia',\n",
       "       'toyota sienna', 'ford focus se', 'ford f250', 'dodge dakota',\n",
       "       'ford f350', 'chevrolet trailblazer', 'ford econoline',\n",
       "       'nissan murano'], dtype=object)"
      ]
     },
     "execution_count": 7,
     "metadata": {},
     "output_type": "execute_result"
    }
   ],
   "source": [
    "df['model'].unique()"
   ]
  },
  {
   "cell_type": "code",
   "execution_count": 8,
   "id": "089415c4",
   "metadata": {},
   "outputs": [
    {
     "data": {
      "text/plain": [
       "1908.0"
      ]
     },
     "execution_count": 8,
     "metadata": {},
     "output_type": "execute_result"
    }
   ],
   "source": [
    "df['model_year'].min()"
   ]
  },
  {
   "cell_type": "code",
   "execution_count": 9,
   "id": "13ceecab",
   "metadata": {},
   "outputs": [
    {
     "data": {
      "text/plain": [
       "2019.0"
      ]
     },
     "execution_count": 9,
     "metadata": {},
     "output_type": "execute_result"
    }
   ],
   "source": [
    "df['model_year'].max()"
   ]
  },
  {
   "cell_type": "code",
   "execution_count": 30,
   "id": "a6b928ed",
   "metadata": {},
   "outputs": [
    {
     "name": "stdout",
     "output_type": "stream",
     "text": [
      "1908 2019\n"
     ]
    }
   ],
   "source": [
    "year_min, year_max = (df['model_year'].min(),df['model_year'].max())\n",
    "print(year_min, year_max)"
   ]
  },
  {
   "cell_type": "code",
   "execution_count": 11,
   "id": "e7181f40",
   "metadata": {},
   "outputs": [
    {
     "name": "stdout",
     "output_type": "stream",
     "text": [
      "0        False\n",
      "1         True\n",
      "2        False\n",
      "3        False\n",
      "4        False\n",
      "         ...  \n",
      "51520    False\n",
      "51521    False\n",
      "51522    False\n",
      "51523    False\n",
      "51524    False\n",
      "Name: model_year, Length: 51525, dtype: bool\n"
     ]
    }
   ],
   "source": [
    "print(df['model_year'].isnull())"
   ]
  },
  {
   "cell_type": "code",
   "execution_count": 12,
   "id": "88c44424",
   "metadata": {},
   "outputs": [],
   "source": [
    "df['model_year'] = pd.to_numeric(df['model_year'], errors = 'coerce')"
   ]
  },
  {
   "cell_type": "code",
   "execution_count": 13,
   "id": "3cb87311",
   "metadata": {},
   "outputs": [],
   "source": [
    "df = df.dropna(subset=['model_year'])"
   ]
  },
  {
   "cell_type": "code",
   "execution_count": 14,
   "id": "cd4e89aa",
   "metadata": {},
   "outputs": [],
   "source": [
    "df['model_year'] = df['model_year'].astype(int)"
   ]
  },
  {
   "cell_type": "code",
   "execution_count": 15,
   "id": "6197a49c",
   "metadata": {},
   "outputs": [
    {
     "name": "stdout",
     "output_type": "stream",
     "text": [
      "0        2011\n",
      "2        2013\n",
      "3        2003\n",
      "4        2017\n",
      "5        2014\n",
      "         ... \n",
      "51520    2013\n",
      "51521    2002\n",
      "51522    2009\n",
      "51523    2013\n",
      "51524    2014\n",
      "Name: model_year, Length: 47906, dtype: int64\n"
     ]
    }
   ],
   "source": [
    "print(df['model_year'])"
   ]
  },
  {
   "cell_type": "code",
   "execution_count": 16,
   "id": "45444b74",
   "metadata": {},
   "outputs": [
    {
     "name": "stdout",
     "output_type": "stream",
     "text": [
      "0        False\n",
      "2        False\n",
      "3        False\n",
      "4        False\n",
      "5        False\n",
      "         ...  \n",
      "51520    False\n",
      "51521    False\n",
      "51522    False\n",
      "51523    False\n",
      "51524    False\n",
      "Name: cylinders, Length: 47906, dtype: bool\n"
     ]
    }
   ],
   "source": [
    "print(df['cylinders'].isnull())"
   ]
  },
  {
   "cell_type": "code",
   "execution_count": 17,
   "id": "9249b6cd",
   "metadata": {},
   "outputs": [],
   "source": [
    "df['cylinders'] = pd.to_numeric(df['cylinders'], errors = 'coerce')"
   ]
  },
  {
   "cell_type": "code",
   "execution_count": 18,
   "id": "d3b5baa1",
   "metadata": {},
   "outputs": [],
   "source": [
    "df = df.dropna(subset=['cylinders'])"
   ]
  },
  {
   "cell_type": "code",
   "execution_count": 19,
   "id": "d25b865f",
   "metadata": {},
   "outputs": [],
   "source": [
    "df['cylinders'] = df['cylinders'].astype(int)"
   ]
  },
  {
   "cell_type": "code",
   "execution_count": 20,
   "id": "f8e1d37a",
   "metadata": {},
   "outputs": [
    {
     "name": "stdout",
     "output_type": "stream",
     "text": [
      "0        6\n",
      "2        4\n",
      "3        8\n",
      "4        4\n",
      "5        6\n",
      "        ..\n",
      "51520    6\n",
      "51521    4\n",
      "51522    4\n",
      "51523    4\n",
      "51524    4\n",
      "Name: cylinders, Length: 43009, dtype: int64\n"
     ]
    }
   ],
   "source": [
    "print(df['cylinders'])"
   ]
  },
  {
   "cell_type": "code",
   "execution_count": 21,
   "id": "20485604",
   "metadata": {},
   "outputs": [
    {
     "name": "stdout",
     "output_type": "stream",
     "text": [
      "0        False\n",
      "2        False\n",
      "3         True\n",
      "4        False\n",
      "5        False\n",
      "         ...  \n",
      "51520    False\n",
      "51521    False\n",
      "51522    False\n",
      "51523    False\n",
      "51524     True\n",
      "Name: odometer, Length: 43009, dtype: bool\n"
     ]
    }
   ],
   "source": [
    "print(df['odometer'].isnull())"
   ]
  },
  {
   "cell_type": "code",
   "execution_count": 22,
   "id": "8e735ed1",
   "metadata": {},
   "outputs": [],
   "source": [
    "df['odometer'] = pd.to_numeric(df['odometer'], errors = 'coerce')"
   ]
  },
  {
   "cell_type": "code",
   "execution_count": 23,
   "id": "1358b73f",
   "metadata": {},
   "outputs": [],
   "source": [
    "df = df.dropna(subset=['odometer'])"
   ]
  },
  {
   "cell_type": "code",
   "execution_count": 24,
   "id": "f8923877",
   "metadata": {},
   "outputs": [],
   "source": [
    "df['odometer'] = df['odometer'].astype(int)"
   ]
  },
  {
   "cell_type": "code",
   "execution_count": 25,
   "id": "8d36771c",
   "metadata": {},
   "outputs": [
    {
     "name": "stdout",
     "output_type": "stream",
     "text": [
      "0        145000\n",
      "2        110000\n",
      "4         80903\n",
      "5         57954\n",
      "6         79212\n",
      "          ...  \n",
      "51518    110200\n",
      "51520     88136\n",
      "51521    181500\n",
      "51522    128000\n",
      "51523    139573\n",
      "Name: odometer, Length: 36419, dtype: int64\n"
     ]
    }
   ],
   "source": [
    "print(df['odometer'])"
   ]
  },
  {
   "cell_type": "code",
   "execution_count": 26,
   "id": "bbcda4f2",
   "metadata": {
    "scrolled": true
   },
   "outputs": [
    {
     "name": "stdout",
     "output_type": "stream",
     "text": [
      "0         True\n",
      "2        False\n",
      "4        False\n",
      "5        False\n",
      "6        False\n",
      "         ...  \n",
      "51518    False\n",
      "51520    False\n",
      "51521    False\n",
      "51522    False\n",
      "51523    False\n",
      "Name: paint_color, Length: 36419, dtype: bool\n"
     ]
    }
   ],
   "source": [
    "print(df['paint_color'].isnull())"
   ]
  },
  {
   "cell_type": "code",
   "execution_count": 27,
   "id": "36647e04",
   "metadata": {},
   "outputs": [],
   "source": [
    "df = df.dropna(subset=['paint_color'])"
   ]
  },
  {
   "cell_type": "code",
   "execution_count": 28,
   "id": "e42fba6e",
   "metadata": {},
   "outputs": [
    {
     "name": "stdout",
     "output_type": "stream",
     "text": [
      "2           red\n",
      "4         black\n",
      "5         black\n",
      "6         white\n",
      "7         black\n",
      "          ...  \n",
      "51518    silver\n",
      "51520     black\n",
      "51521     white\n",
      "51522      blue\n",
      "51523     black\n",
      "Name: paint_color, Length: 29916, dtype: object\n"
     ]
    }
   ],
   "source": [
    "print(df['paint_color'])"
   ]
  },
  {
   "cell_type": "code",
   "execution_count": null,
   "id": "1cd3b627",
   "metadata": {},
   "outputs": [],
   "source": [
    "\n",
    "import streamlit as st\n",
    "import pandas as pd\n",
    "import plotly.express as px\n",
    "\n",
    "\n",
    "\n",
    "df = pd.read_csv('cars.csv')\n",
    "\n",
    "st.header('Market of used Cars')\n",
    "st.write(\"\"\"\n",
    "##### Filter the data below to see the ads by model\"\"\")\n",
    "\n",
    "df['model_year'] = pd.to_numeric(df['model_year'], errors = 'coerce')\n",
    "df = df.dropna(subset=['model_year'])\n",
    "df['model_year'] = df['model_year'].astype(int)\n",
    "\n",
    "df['cylinders'] = pd.to_numeric(df['cylinders'], errors = 'coerce')\n",
    "df = df.dropna(subset=['cylinders'])\n",
    "df['cylinders'] = df['cylinders'].astype(int)\n",
    "\n",
    "df['odometer'] = pd.to_numeric(df['odometer'], errors = 'coerce')\n",
    "df = df.dropna(subset=['odometer'])\n",
    "df['odometer'] = df['odometer'].astype(int)\n",
    "\n",
    "df = df.dropna(subset=['paint_color'])\n",
    "\n",
    "models = df['model'].unique()\n",
    "\n",
    "name_models = st.selectbox('Select model:', models)\n",
    "\n",
    "\n",
    "year_min, year_max = (df['model_year'].min(),df['model_year'].max())\n",
    "year_range = st.slider(\"Choose years:\",value=(year_min, year_max), min_value=year_min, max_value=year_max)\n",
    "\n",
    "actual_range = list(range(year_range[0], year_range[1]+1))\n",
    "\n",
    "filtered_df = df[(df['model']==name_models) & (df.model_year.isin(actual_range))]\n",
    "\n",
    "st.table(filtered_df.head(100))\n",
    "\n",
    "\n",
    "st.header('Price Comparison')\n",
    "st.write(\"\"\"\n",
    "##### How distribution of price varies depending on transmission, cylinders, type, and condition\"\"\")\n",
    "\n",
    "list_for_hist=['transmission','cylinders','type','condition']\n",
    "choice_for_hist=st.selectbox('split for price distribution', list_for_hist)\n",
    "\n",
    "fig = px.histogram(df, x='price', color=choice_for_hist)\n",
    "\n",
    "fig.update_layout(\n",
    "title='<b> Split of price by {} </b>'.format(choice_for_hist))\n",
    "st.plotly_chart(fig)\n",
    "\n",
    "df['age']=2023-df['model_year']\n",
    "def age_category(x):\n",
    "    if x<5: return '<5'\n",
    "    elif x>=5 and x<10: return '5-10'\n",
    "    elif x>=10 and x<20: return '10-20'\n",
    "    else: return '>20'\n",
    "\n",
    "df['age_category'] = df['age'].apply(age_category)\n",
    "\n",
    "\n",
    "st.write(\"\"\"\n",
    "##### How distribution of price varies depending on odometer and number of days listed\"\"\")\n",
    "list_for_scatter=['odometer','days_listed']\n",
    "choice_for_scatter=st.selectbox('split for price distribution', list_for_scatter)\n",
    "\n",
    "fig2 = px.scatter(df, x='price', y = choice_for_scatter, color = 'age_category')\n",
    "st.plotly_chart(fig2)\n"
   ]
  },
  {
   "cell_type": "code",
   "execution_count": null,
   "id": "e630d654",
   "metadata": {},
   "outputs": [],
   "source": []
  }
 ],
 "metadata": {
  "kernelspec": {
   "display_name": "Python 3 (ipykernel)",
   "language": "python",
   "name": "python3"
  },
  "language_info": {
   "codemirror_mode": {
    "name": "ipython",
    "version": 3
   },
   "file_extension": ".py",
   "mimetype": "text/x-python",
   "name": "python",
   "nbconvert_exporter": "python",
   "pygments_lexer": "ipython3",
   "version": "3.9.5"
  },
  "toc": {
   "base_numbering": 1,
   "nav_menu": {},
   "number_sections": true,
   "sideBar": true,
   "skip_h1_title": true,
   "title_cell": "Table of Contents",
   "title_sidebar": "Contents",
   "toc_cell": false,
   "toc_position": {},
   "toc_section_display": true,
   "toc_window_display": false
  }
 },
 "nbformat": 4,
 "nbformat_minor": 5
}
